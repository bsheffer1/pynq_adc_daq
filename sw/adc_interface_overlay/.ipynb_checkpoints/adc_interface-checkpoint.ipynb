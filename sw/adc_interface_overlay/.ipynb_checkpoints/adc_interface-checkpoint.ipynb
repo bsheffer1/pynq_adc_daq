{
 "cells": [
  {
   "cell_type": "code",
   "execution_count": 1,
   "id": "b3941ce0",
   "metadata": {},
   "outputs": [
    {
     "data": {
      "application/javascript": [
       "\n",
       "try {\n",
       "require(['notebook/js/codecell'], function(codecell) {\n",
       "  codecell.CodeCell.options_default.highlight_modes[\n",
       "      'magic_text/x-csrc'] = {'reg':[/^%%microblaze/]};\n",
       "  Jupyter.notebook.events.one('kernel_ready.Kernel', function(){\n",
       "      Jupyter.notebook.get_cells().map(function(cell){\n",
       "          if (cell.cell_type == 'code'){ cell.auto_highlight(); } }) ;\n",
       "  });\n",
       "});\n",
       "} catch (e) {};\n"
      ]
     },
     "metadata": {},
     "output_type": "display_data"
    },
    {
     "data": {
      "application/javascript": [
       "\n",
       "try {\n",
       "require(['notebook/js/codecell'], function(codecell) {\n",
       "  codecell.CodeCell.options_default.highlight_modes[\n",
       "      'magic_text/x-csrc'] = {'reg':[/^%%pybind11/]};\n",
       "  Jupyter.notebook.events.one('kernel_ready.Kernel', function(){\n",
       "      Jupyter.notebook.get_cells().map(function(cell){\n",
       "          if (cell.cell_type == 'code'){ cell.auto_highlight(); } }) ;\n",
       "  });\n",
       "});\n",
       "} catch (e) {};\n"
      ]
     },
     "metadata": {},
     "output_type": "display_data"
    }
   ],
   "source": [
    "#instantiate and load overlay\n",
    "from pynq import Overlay\n",
    "\n",
    "#note the .bit file must have the same name as the .hwh and .tcl file\n",
    "adc_interface = Overlay(\"adc_interface.bit\")"
   ]
  },
  {
   "cell_type": "code",
   "execution_count": 1,
   "id": "3766c1a4",
   "metadata": {
    "scrolled": true
   },
   "outputs": [
    {
     "ename": "NameError",
     "evalue": "name 'adc_interface' is not defined",
     "output_type": "error",
     "traceback": [
      "\u001b[0;31m---------------------------------------------------------------------------\u001b[0m",
      "\u001b[0;31mNameError\u001b[0m                                 Traceback (most recent call last)",
      "\u001b[0;32m<ipython-input-1-2b22580ee92f>\u001b[0m in \u001b[0;36m<module>\u001b[0;34m\u001b[0m\n\u001b[0;32m----> 1\u001b[0;31m \u001b[0mprint\u001b[0m\u001b[0;34m(\u001b[0m\u001b[0madc_interface\u001b[0m\u001b[0;34m.\u001b[0m\u001b[0mis_loaded\u001b[0m\u001b[0;34m(\u001b[0m\u001b[0;34m)\u001b[0m\u001b[0;34m)\u001b[0m\u001b[0;34m\u001b[0m\u001b[0;34m\u001b[0m\u001b[0m\n\u001b[0m",
      "\u001b[0;31mNameError\u001b[0m: name 'adc_interface' is not defined"
     ]
    }
   ],
   "source": [
    "#verify that overlay is loaded\n",
    "print(adc_interface.is_loaded())"
   ]
  },
  {
   "cell_type": "code",
   "execution_count": 3,
   "id": "a782c190",
   "metadata": {},
   "outputs": [
    {
     "name": "stdout",
     "output_type": "stream",
     "text": [
      "dict_keys(['axi_registers', 'processing_system7_0'])\n"
     ]
    }
   ],
   "source": [
    "#print address mapped modules present in overlay (optional)\n",
    "print(adc_interface.ip_dict.keys())"
   ]
  },
  {
   "cell_type": "code",
   "execution_count": 4,
   "id": "b1f6b91e",
   "metadata": {},
   "outputs": [],
   "source": [
    "axi_port = adc_interface.axi_registers"
   ]
  },
  {
   "cell_type": "code",
   "execution_count": 9,
   "id": "ea148042",
   "metadata": {},
   "outputs": [
    {
     "name": "stdout",
     "output_type": "stream",
     "text": [
      "value read from address 0 is the following: 1346523081\n",
      "value read from address 1 is the following: 20281\n",
      "value read from address 2 is the following: 12950374\n",
      "value read from address 3 is the following: 12950628\n",
      "value read from address 4 is the following: 0\n",
      "value read from address 5 is the following: 0\n",
      "value read from address 6 is the following: 0\n",
      "value read from address 7 is the following: 0\n",
      "value read from address 8 is the following: 0\n",
      "value read from address 9 is the following: 0\n",
      "value read from address 10 is the following: 0\n",
      "value read from address 11 is the following: 0\n",
      "value read from address 12 is the following: 0\n",
      "value read from address 13 is the following: 0\n",
      "value read from address 14 is the following: 0\n",
      "value read from address 15 is the following: 0\n",
      "value read from address 16 is the following: 0\n",
      "value read from address 17 is the following: 0\n",
      "value read from address 18 is the following: 0\n",
      "value read from address 19 is the following: 0\n",
      "value read from address 20 is the following: 0\n",
      "value read from address 21 is the following: 0\n",
      "value read from address 22 is the following: 0\n",
      "value read from address 23 is the following: 0\n",
      "value read from address 24 is the following: 0\n",
      "value read from address 25 is the following: 0\n",
      "value read from address 26 is the following: 0\n",
      "value read from address 27 is the following: 0\n",
      "value read from address 28 is the following: 0\n",
      "value read from address 29 is the following: 0\n",
      "value read from address 30 is the following: 0\n",
      "value read from address 31 is the following: 0\n",
      "value read from address 32 is the following: 0\n",
      "value read from address 33 is the following: 0\n",
      "value read from address 34 is the following: 0\n",
      "value read from address 35 is the following: 0\n",
      "value read from address 36 is the following: 0\n",
      "value read from address 37 is the following: 0\n",
      "value read from address 38 is the following: 0\n",
      "value read from address 39 is the following: 0\n",
      "value read from address 40 is the following: 0\n",
      "value read from address 41 is the following: 0\n",
      "value read from address 42 is the following: 0\n",
      "value read from address 43 is the following: 0\n",
      "value read from address 44 is the following: 0\n",
      "value read from address 45 is the following: 0\n",
      "value read from address 46 is the following: 0\n",
      "value read from address 47 is the following: 0\n",
      "value read from address 48 is the following: 0\n",
      "value read from address 49 is the following: 0\n",
      "value read from address 50 is the following: 0\n",
      "value read from address 51 is the following: 0\n",
      "value read from address 52 is the following: 0\n",
      "value read from address 53 is the following: 0\n",
      "value read from address 54 is the following: 0\n",
      "value read from address 55 is the following: 0\n",
      "value read from address 56 is the following: 0\n",
      "value read from address 57 is the following: 0\n",
      "value read from address 58 is the following: 0\n",
      "value read from address 59 is the following: 0\n",
      "value read from address 60 is the following: 0\n",
      "value read from address 61 is the following: 0\n",
      "value read from address 62 is the following: 0\n",
      "value read from address 63 is the following: 0\n",
      "value read from address 64 is the following: 0\n",
      "value read from address 65 is the following: 0\n",
      "value read from address 66 is the following: 0\n",
      "value read from address 67 is the following: 0\n",
      "value read from address 68 is the following: 0\n",
      "value read from address 69 is the following: 0\n",
      "value read from address 70 is the following: 0\n",
      "value read from address 71 is the following: 0\n",
      "value read from address 72 is the following: 0\n",
      "value read from address 73 is the following: 0\n",
      "value read from address 74 is the following: 0\n",
      "value read from address 75 is the following: 0\n",
      "value read from address 76 is the following: 0\n",
      "value read from address 77 is the following: 0\n",
      "value read from address 78 is the following: 0\n",
      "value read from address 79 is the following: 0\n",
      "value read from address 80 is the following: 0\n",
      "value read from address 81 is the following: 0\n",
      "value read from address 82 is the following: 0\n",
      "value read from address 83 is the following: 0\n",
      "value read from address 84 is the following: 0\n",
      "value read from address 85 is the following: 0\n",
      "value read from address 86 is the following: 0\n",
      "value read from address 87 is the following: 0\n",
      "value read from address 88 is the following: 0\n",
      "value read from address 89 is the following: 0\n",
      "value read from address 90 is the following: 0\n",
      "value read from address 91 is the following: 0\n",
      "value read from address 92 is the following: 0\n",
      "value read from address 93 is the following: 0\n",
      "value read from address 94 is the following: 0\n",
      "value read from address 95 is the following: 0\n",
      "value read from address 96 is the following: 0\n",
      "value read from address 97 is the following: 0\n",
      "value read from address 98 is the following: 0\n",
      "value read from address 99 is the following: 0\n",
      "value read from address 100 is the following: 0\n",
      "value read from address 101 is the following: 0\n",
      "value read from address 102 is the following: 0\n",
      "value read from address 103 is the following: 0\n",
      "value read from address 104 is the following: 0\n",
      "value read from address 105 is the following: 0\n",
      "value read from address 106 is the following: 0\n",
      "value read from address 107 is the following: 0\n",
      "value read from address 108 is the following: 0\n",
      "value read from address 109 is the following: 0\n",
      "value read from address 110 is the following: 0\n",
      "value read from address 111 is the following: 0\n",
      "value read from address 112 is the following: 0\n",
      "value read from address 113 is the following: 0\n",
      "value read from address 114 is the following: 0\n",
      "value read from address 115 is the following: 0\n",
      "value read from address 116 is the following: 0\n",
      "value read from address 117 is the following: 0\n",
      "value read from address 118 is the following: 0\n",
      "value read from address 119 is the following: 0\n",
      "value read from address 120 is the following: 0\n",
      "value read from address 121 is the following: 0\n",
      "value read from address 122 is the following: 0\n",
      "value read from address 123 is the following: 0\n",
      "value read from address 124 is the following: 0\n",
      "value read from address 125 is the following: 0\n",
      "value read from address 126 is the following: 0\n",
      "value read from address 127 is the following: 0\n",
      "value read from address 128 is the following: 0\n",
      "value read from address 129 is the following: 0\n",
      "value read from address 130 is the following: 0\n",
      "value read from address 131 is the following: 0\n",
      "value read from address 132 is the following: 0\n",
      "value read from address 133 is the following: 0\n",
      "value read from address 134 is the following: 0\n",
      "value read from address 135 is the following: 0\n",
      "value read from address 136 is the following: 0\n",
      "value read from address 137 is the following: 0\n",
      "value read from address 138 is the following: 0\n",
      "value read from address 139 is the following: 0\n",
      "value read from address 140 is the following: 0\n",
      "value read from address 141 is the following: 0\n",
      "value read from address 142 is the following: 0\n",
      "value read from address 143 is the following: 0\n",
      "value read from address 144 is the following: 0\n",
      "value read from address 145 is the following: 0\n",
      "value read from address 146 is the following: 0\n",
      "value read from address 147 is the following: 0\n",
      "value read from address 148 is the following: 0\n",
      "value read from address 149 is the following: 0\n",
      "value read from address 150 is the following: 0\n",
      "value read from address 151 is the following: 0\n",
      "value read from address 152 is the following: 0\n",
      "value read from address 153 is the following: 0\n",
      "value read from address 154 is the following: 0\n",
      "value read from address 155 is the following: 0\n",
      "value read from address 156 is the following: 0\n",
      "value read from address 157 is the following: 0\n",
      "value read from address 158 is the following: 0\n",
      "value read from address 159 is the following: 0\n",
      "value read from address 160 is the following: 0\n",
      "value read from address 161 is the following: 0\n",
      "value read from address 162 is the following: 0\n",
      "value read from address 163 is the following: 0\n",
      "value read from address 164 is the following: 0\n",
      "value read from address 165 is the following: 0\n",
      "value read from address 166 is the following: 0\n",
      "value read from address 167 is the following: 0\n",
      "value read from address 168 is the following: 0\n",
      "value read from address 169 is the following: 0\n",
      "value read from address 170 is the following: 0\n",
      "value read from address 171 is the following: 0\n",
      "value read from address 172 is the following: 0\n",
      "value read from address 173 is the following: 0\n",
      "value read from address 174 is the following: 0\n",
      "value read from address 175 is the following: 0\n",
      "value read from address 176 is the following: 0\n",
      "value read from address 177 is the following: 0\n",
      "value read from address 178 is the following: 0\n",
      "value read from address 179 is the following: 0\n",
      "value read from address 180 is the following: 0\n",
      "value read from address 181 is the following: 0\n"
     ]
    },
    {
     "name": "stdout",
     "output_type": "stream",
     "text": [
      "value read from address 182 is the following: 0\n",
      "value read from address 183 is the following: 0\n",
      "value read from address 184 is the following: 0\n",
      "value read from address 185 is the following: 0\n",
      "value read from address 186 is the following: 0\n",
      "value read from address 187 is the following: 0\n",
      "value read from address 188 is the following: 0\n",
      "value read from address 189 is the following: 0\n",
      "value read from address 190 is the following: 0\n",
      "value read from address 191 is the following: 0\n",
      "value read from address 192 is the following: 0\n",
      "value read from address 193 is the following: 0\n",
      "value read from address 194 is the following: 0\n",
      "value read from address 195 is the following: 0\n",
      "value read from address 196 is the following: 0\n",
      "value read from address 197 is the following: 0\n",
      "value read from address 198 is the following: 0\n",
      "value read from address 199 is the following: 0\n",
      "value read from address 200 is the following: 0\n",
      "value read from address 201 is the following: 0\n",
      "value read from address 202 is the following: 0\n",
      "value read from address 203 is the following: 0\n",
      "value read from address 204 is the following: 0\n",
      "value read from address 205 is the following: 0\n",
      "value read from address 206 is the following: 0\n",
      "value read from address 207 is the following: 0\n",
      "value read from address 208 is the following: 0\n",
      "value read from address 209 is the following: 0\n",
      "value read from address 210 is the following: 0\n",
      "value read from address 211 is the following: 0\n",
      "value read from address 212 is the following: 0\n",
      "value read from address 213 is the following: 0\n",
      "value read from address 214 is the following: 0\n",
      "value read from address 215 is the following: 0\n",
      "value read from address 216 is the following: 0\n",
      "value read from address 217 is the following: 0\n",
      "value read from address 218 is the following: 0\n",
      "value read from address 219 is the following: 0\n",
      "value read from address 220 is the following: 0\n",
      "value read from address 221 is the following: 0\n",
      "value read from address 222 is the following: 0\n",
      "value read from address 223 is the following: 0\n",
      "value read from address 224 is the following: 0\n",
      "value read from address 225 is the following: 0\n",
      "value read from address 226 is the following: 0\n",
      "value read from address 227 is the following: 0\n",
      "value read from address 228 is the following: 0\n",
      "value read from address 229 is the following: 0\n",
      "value read from address 230 is the following: 0\n",
      "value read from address 231 is the following: 0\n",
      "value read from address 232 is the following: 0\n",
      "value read from address 233 is the following: 0\n",
      "value read from address 234 is the following: 0\n",
      "value read from address 235 is the following: 0\n",
      "value read from address 236 is the following: 0\n",
      "value read from address 237 is the following: 0\n",
      "value read from address 238 is the following: 0\n",
      "value read from address 239 is the following: 0\n",
      "value read from address 240 is the following: 0\n",
      "value read from address 241 is the following: 0\n",
      "value read from address 242 is the following: 0\n",
      "value read from address 243 is the following: 0\n",
      "value read from address 244 is the following: 0\n",
      "value read from address 245 is the following: 0\n",
      "value read from address 246 is the following: 0\n",
      "value read from address 247 is the following: 0\n",
      "value read from address 248 is the following: 0\n",
      "value read from address 249 is the following: 0\n",
      "value read from address 250 is the following: 0\n",
      "value read from address 251 is the following: 0\n",
      "value read from address 252 is the following: 0\n",
      "value read from address 253 is the following: 0\n",
      "value read from address 254 is the following: 0\n"
     ]
    }
   ],
   "source": [
    "#readout entire 8-bit address space and print values\n",
    "for addr in range(0,255):\n",
    "    read_value = axi_port.read(addr*4)\n",
    "    print('value read from address ' + str(addr) + ' is the following: ' + str(read_value))"
   ]
  },
  {
   "cell_type": "code",
   "execution_count": 110,
   "id": "b03aefa8",
   "metadata": {},
   "outputs": [
    {
     "name": "stdout",
     "output_type": "stream",
     "text": [
      "read overhead = 2.3647211492061615e-05 s\n"
     ]
    }
   ],
   "source": [
    "#determine read overhead for read operation\n",
    "import time\n",
    "\n",
    "start_time = time.time()\n",
    "#calculate read overhead\n",
    "for addr in range(0,255):\n",
    "    read_value = axi_port.read(addr*4)\n",
    "    \n",
    "end_time = time.time()\n",
    "\n",
    "print('read overhead = ' + str((end_time-start_time)/256) + ' s')\n",
    "\n",
    "#read overhead = 2.3027881979942322e-05 s => bit less than 25 uS\n",
    "#which is not very efficient for 32 bits of data, but could probably be good enough..."
   ]
  },
  {
   "cell_type": "code",
   "execution_count": 6,
   "id": "25cd0198",
   "metadata": {},
   "outputs": [
    {
     "name": "stdout",
     "output_type": "stream",
     "text": [
      "value read from address 128.0 is the following: 35\n"
     ]
    }
   ],
   "source": [
    "#test ability to write to addresses\n",
    "write_addr = 128*4\n",
    "\n",
    "axi_port.write(write_addr,35)\n",
    "\n",
    "verif_val = axi_port.read(write_addr)\n",
    "\n",
    "print('value read from address ' + str(write_addr/4) + ' is the following: ' + str(verif_val))"
   ]
  },
  {
   "cell_type": "code",
   "execution_count": 130,
   "id": "f64a8537",
   "metadata": {},
   "outputs": [
    {
     "name": "stdout",
     "output_type": "stream",
     "text": [
      "read time for 40K samples is 0.8007993698120117 s\n",
      "max value read: 1\n",
      "min value read: -506\n"
     ]
    },
    {
     "data": {
      "text/plain": [
       "<function matplotlib.pyplot.show(*args, **kw)>"
      ]
     },
     "execution_count": 130,
     "metadata": {},
     "output_type": "execute_result"
    },
    {
     "data": {
      "image/png": "[encoded data removed]",
      "text/plain": [
       "<Figure size 432x288 with 1 Axes>"
      ]
     },
     "metadata": {
      "needs_background": "light"
     },
     "output_type": "display_data"
    }
   ],
   "source": [
    "#read the ADC as fast as you can for ~1 second and then plot its data\n",
    "import numpy as np\n",
    "import matplotlib.pyplot as plt\n",
    "import matplotlib as mpl\n",
    "import time\n",
    "\n",
    "#adc values are stored in address 1 for this image\n",
    "adc_value_addr = 1\n",
    "adc_read_addr = adc_value_addr*4\n",
    "\n",
    "#we can read a new measurement something like every 25 microseconds, so this is not the fastest we can read,\n",
    "#but should be good for a proof of concept, so about a seconds worth of data is 40K samples. I think we can store that\n",
    "nSamples = 40000\n",
    "\n",
    "adc_sample_numbers = [n for n in range(1,nSamples+1)]\n",
    "adc_samples = [int(0) for n in range(0,nSamples)]\n",
    "\n",
    "start_read_time = time.time()\n",
    "\n",
    "for i in range(0, nSamples):\n",
    "    adc_samples[i] = int(axi_port.read(adc_read_addr))\n",
    "end_read_time = time.time()\n",
    "\n",
    "print('read time for 40K samples is ' + str(end_read_time-start_read_time) + ' s')\n",
    "    \n",
    "def twos_comp(val, bits):\n",
    "    \"\"\"compute the 2's complement of int value val\"\"\"\n",
    "    if (val & (1 << (bits - 1))) != 0: # if sign bit is set e.g., 8bit: 128-255\n",
    "        val = val - (1 << bits)        # compute negative value\n",
    "    return val                         # return positive value as is\n",
    "    \n",
    "#convert to 2's compliment\n",
    "for i in range(0, nSamples):\n",
    "    adc_samples[i] = ((adc_samples[i] >> 4))\n",
    "    adc_samples[i] = twos_comp(adc_samples[i], 12)\n",
    "\n",
    "print('max value read: ' + str(max(adc_samples)))\n",
    "print('min value read: ' + str(min(adc_samples)))\n",
    "    \n",
    "adc_max = 2048\n",
    "adc_min=-2048\n",
    "plt.figure(1)\n",
    "#plt.ylim(adc_min,adc_max)\n",
    "plt.scatter(adc_sample_numbers[0:100],adc_samples[0:100])\n",
    "plt.show"
   ]
  }
 ],
 "metadata": {
  "kernelspec": {
   "display_name": "Python 3",
   "language": "python",
   "name": "python3"
  },
  "language_info": {
   "codemirror_mode": {
    "name": "ipython",
    "version": 3
   },
   "file_extension": ".py",
   "mimetype": "text/x-python",
   "name": "python",
   "nbconvert_exporter": "python",
   "pygments_lexer": "ipython3",
   "version": "3.8.2"
  }
 },
 "nbformat": 4,
 "nbformat_minor": 5
}
